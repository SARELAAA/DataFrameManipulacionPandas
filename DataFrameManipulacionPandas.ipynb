{
 "cells": [
  {
   "cell_type": "markdown",
   "id": "125968c0",
   "metadata": {},
   "source": [
    "#  Dataframe manipulation with Pandas\n",
    "For this section, you are only allowed to use pandas or maybe numpy\n",
    "\n",
    "Some text files with data from identify people by RENIEC from 2014 through 2020 (pob_identifi cada_YYYY.txt) will be share to you. Before you begin to answer any question in this section, you have to load these files and consolidate them into a single DataFrame (df)."
   ]
  },
  {
   "cell_type": "markdown",
   "id": "b1208746",
   "metadata": {},
   "source": [
    "## How many nonresident male were identified from 2018 through 2019?"
   ]
  },
  {
   "cell_type": "code",
   "execution_count": 1,
   "id": "ef3ad17e",
   "metadata": {},
   "outputs": [],
   "source": [
    "import pandas as pd"
   ]
  },
  {
   "cell_type": "code",
   "execution_count": 2,
   "id": "de18e257",
   "metadata": {},
   "outputs": [],
   "source": [
    "import numpy as np"
   ]
  },
  {
   "cell_type": "code",
   "execution_count": 3,
   "id": "f947c221",
   "metadata": {},
   "outputs": [
    {
     "name": "stderr",
     "output_type": "stream",
     "text": [
      "C:\\ProgramData\\Anaconda3\\lib\\site-packages\\IPython\\core\\interactiveshell.py:3165: DtypeWarning: Columns (1,2) have mixed types.Specify dtype option on import or set low_memory=False.\n",
      "  has_raised = await self.run_ast_nodes(code_ast.body, cell_name,\n"
     ]
    }
   ],
   "source": [
    "df_2014 = pd.read_csv('pob_identificada_2014.txt', delimiter=',', header=0)\n",
    "df_2014_N=df_2014.assign(PERIODO=2014)\n"
   ]
  },
  {
   "cell_type": "code",
   "execution_count": 4,
   "id": "09b024d2",
   "metadata": {},
   "outputs": [],
   "source": [
    "np.savetxt(\n",
    "    'df_2014_N.txt',\n",
    "    df_2014_N.values,\n",
    "    fmt='%s',\n",
    "    header=' '.join(df_2014_N.columns),\n",
    "    comments=''\n",
    ")"
   ]
  },
  {
   "cell_type": "code",
   "execution_count": 5,
   "id": "d2362bc9",
   "metadata": {},
   "outputs": [
    {
     "data": {
      "text/html": [
       "<div>\n",
       "<style scoped>\n",
       "    .dataframe tbody tr th:only-of-type {\n",
       "        vertical-align: middle;\n",
       "    }\n",
       "\n",
       "    .dataframe tbody tr th {\n",
       "        vertical-align: top;\n",
       "    }\n",
       "\n",
       "    .dataframe thead th {\n",
       "        text-align: right;\n",
       "    }\n",
       "</style>\n",
       "<table border=\"1\" class=\"dataframe\">\n",
       "  <thead>\n",
       "    <tr style=\"text-align: right;\">\n",
       "      <th></th>\n",
       "      <th>RESIDENCIA</th>\n",
       "      <th>UBIGEO_RENIEC</th>\n",
       "      <th>UBIGEO_INEI</th>\n",
       "      <th>CONTINENTE</th>\n",
       "      <th>PAIS</th>\n",
       "      <th>DEPARTAMENTO</th>\n",
       "      <th>PROVINCIA</th>\n",
       "      <th>DISTRITO</th>\n",
       "      <th>SEXO</th>\n",
       "      <th>EDAD</th>\n",
       "      <th>CANTIDAD</th>\n",
       "      <th>PERIODO</th>\n",
       "    </tr>\n",
       "  </thead>\n",
       "  <tbody>\n",
       "    <tr>\n",
       "      <th>0</th>\n",
       "      <td>Nacional</td>\n",
       "      <td>10101</td>\n",
       "      <td>10101</td>\n",
       "      <td>América</td>\n",
       "      <td>Perú</td>\n",
       "      <td>Amazonas</td>\n",
       "      <td>Chachapoyas</td>\n",
       "      <td>Chachapoyas</td>\n",
       "      <td>Hombre</td>\n",
       "      <td>0</td>\n",
       "      <td>315</td>\n",
       "      <td>2014</td>\n",
       "    </tr>\n",
       "    <tr>\n",
       "      <th>1</th>\n",
       "      <td>Nacional</td>\n",
       "      <td>10101</td>\n",
       "      <td>10101</td>\n",
       "      <td>América</td>\n",
       "      <td>Perú</td>\n",
       "      <td>Amazonas</td>\n",
       "      <td>Chachapoyas</td>\n",
       "      <td>Chachapoyas</td>\n",
       "      <td>Hombre</td>\n",
       "      <td>1</td>\n",
       "      <td>337</td>\n",
       "      <td>2014</td>\n",
       "    </tr>\n",
       "    <tr>\n",
       "      <th>2</th>\n",
       "      <td>Nacional</td>\n",
       "      <td>10101</td>\n",
       "      <td>10101</td>\n",
       "      <td>América</td>\n",
       "      <td>Perú</td>\n",
       "      <td>Amazonas</td>\n",
       "      <td>Chachapoyas</td>\n",
       "      <td>Chachapoyas</td>\n",
       "      <td>Hombre</td>\n",
       "      <td>2</td>\n",
       "      <td>311</td>\n",
       "      <td>2014</td>\n",
       "    </tr>\n",
       "    <tr>\n",
       "      <th>3</th>\n",
       "      <td>Nacional</td>\n",
       "      <td>10101</td>\n",
       "      <td>10101</td>\n",
       "      <td>América</td>\n",
       "      <td>Perú</td>\n",
       "      <td>Amazonas</td>\n",
       "      <td>Chachapoyas</td>\n",
       "      <td>Chachapoyas</td>\n",
       "      <td>Hombre</td>\n",
       "      <td>3</td>\n",
       "      <td>302</td>\n",
       "      <td>2014</td>\n",
       "    </tr>\n",
       "    <tr>\n",
       "      <th>4</th>\n",
       "      <td>Nacional</td>\n",
       "      <td>10101</td>\n",
       "      <td>10101</td>\n",
       "      <td>América</td>\n",
       "      <td>Perú</td>\n",
       "      <td>Amazonas</td>\n",
       "      <td>Chachapoyas</td>\n",
       "      <td>Chachapoyas</td>\n",
       "      <td>Hombre</td>\n",
       "      <td>4</td>\n",
       "      <td>276</td>\n",
       "      <td>2014</td>\n",
       "    </tr>\n",
       "  </tbody>\n",
       "</table>\n",
       "</div>"
      ],
      "text/plain": [
       "  RESIDENCIA UBIGEO_RENIEC UBIGEO_INEI CONTINENTE  PAIS DEPARTAMENTO  \\\n",
       "0   Nacional         10101       10101    América  Perú     Amazonas   \n",
       "1   Nacional         10101       10101    América  Perú     Amazonas   \n",
       "2   Nacional         10101       10101    América  Perú     Amazonas   \n",
       "3   Nacional         10101       10101    América  Perú     Amazonas   \n",
       "4   Nacional         10101       10101    América  Perú     Amazonas   \n",
       "\n",
       "     PROVINCIA     DISTRITO    SEXO  EDAD  CANTIDAD  PERIODO  \n",
       "0  Chachapoyas  Chachapoyas  Hombre     0       315     2014  \n",
       "1  Chachapoyas  Chachapoyas  Hombre     1       337     2014  \n",
       "2  Chachapoyas  Chachapoyas  Hombre     2       311     2014  \n",
       "3  Chachapoyas  Chachapoyas  Hombre     3       302     2014  \n",
       "4  Chachapoyas  Chachapoyas  Hombre     4       276     2014  "
      ]
     },
     "execution_count": 5,
     "metadata": {},
     "output_type": "execute_result"
    }
   ],
   "source": [
    "df_2014_N.head()"
   ]
  },
  {
   "cell_type": "code",
   "execution_count": 6,
   "id": "b460dc5f",
   "metadata": {},
   "outputs": [
    {
     "name": "stderr",
     "output_type": "stream",
     "text": [
      "C:\\ProgramData\\Anaconda3\\lib\\site-packages\\IPython\\core\\interactiveshell.py:3165: DtypeWarning: Columns (1,2) have mixed types.Specify dtype option on import or set low_memory=False.\n",
      "  has_raised = await self.run_ast_nodes(code_ast.body, cell_name,\n"
     ]
    }
   ],
   "source": [
    "df_2015 = pd.read_csv('pob_identificada_2015.txt', delimiter=',', header=0)\n",
    "df_2015_N=df_2015.assign(PERIODO=2015)\n",
    "np.savetxt(\n",
    "    'df_2015_N.txt',\n",
    "    df_2015_N.values,\n",
    "    fmt='%s',\n",
    "    header=' '.join(df_2015_N.columns),\n",
    "    comments=''\n",
    ")"
   ]
  },
  {
   "cell_type": "code",
   "execution_count": 7,
   "id": "ed1291e8",
   "metadata": {},
   "outputs": [
    {
     "data": {
      "text/html": [
       "<div>\n",
       "<style scoped>\n",
       "    .dataframe tbody tr th:only-of-type {\n",
       "        vertical-align: middle;\n",
       "    }\n",
       "\n",
       "    .dataframe tbody tr th {\n",
       "        vertical-align: top;\n",
       "    }\n",
       "\n",
       "    .dataframe thead th {\n",
       "        text-align: right;\n",
       "    }\n",
       "</style>\n",
       "<table border=\"1\" class=\"dataframe\">\n",
       "  <thead>\n",
       "    <tr style=\"text-align: right;\">\n",
       "      <th></th>\n",
       "      <th>RESIDENCIA</th>\n",
       "      <th>UBIGEO_RENIEC</th>\n",
       "      <th>UBIGEO_INEI</th>\n",
       "      <th>CONTINENTE</th>\n",
       "      <th>PAIS</th>\n",
       "      <th>DEPARTAMENTO</th>\n",
       "      <th>PROVINCIA</th>\n",
       "      <th>DISTRITO</th>\n",
       "      <th>SEXO</th>\n",
       "      <th>EDAD</th>\n",
       "      <th>CANTIDAD</th>\n",
       "      <th>PERIODO</th>\n",
       "    </tr>\n",
       "  </thead>\n",
       "  <tbody>\n",
       "    <tr>\n",
       "      <th>0</th>\n",
       "      <td>Nacional</td>\n",
       "      <td>10101</td>\n",
       "      <td>10101</td>\n",
       "      <td>América</td>\n",
       "      <td>Perú</td>\n",
       "      <td>Amazonas</td>\n",
       "      <td>Chachapoyas</td>\n",
       "      <td>Chachapoyas</td>\n",
       "      <td>Hombre</td>\n",
       "      <td>0</td>\n",
       "      <td>285</td>\n",
       "      <td>2015</td>\n",
       "    </tr>\n",
       "    <tr>\n",
       "      <th>1</th>\n",
       "      <td>Nacional</td>\n",
       "      <td>10101</td>\n",
       "      <td>10101</td>\n",
       "      <td>América</td>\n",
       "      <td>Perú</td>\n",
       "      <td>Amazonas</td>\n",
       "      <td>Chachapoyas</td>\n",
       "      <td>Chachapoyas</td>\n",
       "      <td>Hombre</td>\n",
       "      <td>1</td>\n",
       "      <td>343</td>\n",
       "      <td>2015</td>\n",
       "    </tr>\n",
       "    <tr>\n",
       "      <th>2</th>\n",
       "      <td>Nacional</td>\n",
       "      <td>10101</td>\n",
       "      <td>10101</td>\n",
       "      <td>América</td>\n",
       "      <td>Perú</td>\n",
       "      <td>Amazonas</td>\n",
       "      <td>Chachapoyas</td>\n",
       "      <td>Chachapoyas</td>\n",
       "      <td>Hombre</td>\n",
       "      <td>2</td>\n",
       "      <td>335</td>\n",
       "      <td>2015</td>\n",
       "    </tr>\n",
       "    <tr>\n",
       "      <th>3</th>\n",
       "      <td>Nacional</td>\n",
       "      <td>10101</td>\n",
       "      <td>10101</td>\n",
       "      <td>América</td>\n",
       "      <td>Perú</td>\n",
       "      <td>Amazonas</td>\n",
       "      <td>Chachapoyas</td>\n",
       "      <td>Chachapoyas</td>\n",
       "      <td>Hombre</td>\n",
       "      <td>3</td>\n",
       "      <td>311</td>\n",
       "      <td>2015</td>\n",
       "    </tr>\n",
       "    <tr>\n",
       "      <th>4</th>\n",
       "      <td>Nacional</td>\n",
       "      <td>10101</td>\n",
       "      <td>10101</td>\n",
       "      <td>América</td>\n",
       "      <td>Perú</td>\n",
       "      <td>Amazonas</td>\n",
       "      <td>Chachapoyas</td>\n",
       "      <td>Chachapoyas</td>\n",
       "      <td>Hombre</td>\n",
       "      <td>4</td>\n",
       "      <td>301</td>\n",
       "      <td>2015</td>\n",
       "    </tr>\n",
       "  </tbody>\n",
       "</table>\n",
       "</div>"
      ],
      "text/plain": [
       "  RESIDENCIA UBIGEO_RENIEC UBIGEO_INEI CONTINENTE  PAIS DEPARTAMENTO  \\\n",
       "0   Nacional         10101       10101    América  Perú     Amazonas   \n",
       "1   Nacional         10101       10101    América  Perú     Amazonas   \n",
       "2   Nacional         10101       10101    América  Perú     Amazonas   \n",
       "3   Nacional         10101       10101    América  Perú     Amazonas   \n",
       "4   Nacional         10101       10101    América  Perú     Amazonas   \n",
       "\n",
       "     PROVINCIA     DISTRITO    SEXO  EDAD  CANTIDAD  PERIODO  \n",
       "0  Chachapoyas  Chachapoyas  Hombre     0       285     2015  \n",
       "1  Chachapoyas  Chachapoyas  Hombre     1       343     2015  \n",
       "2  Chachapoyas  Chachapoyas  Hombre     2       335     2015  \n",
       "3  Chachapoyas  Chachapoyas  Hombre     3       311     2015  \n",
       "4  Chachapoyas  Chachapoyas  Hombre     4       301     2015  "
      ]
     },
     "execution_count": 7,
     "metadata": {},
     "output_type": "execute_result"
    }
   ],
   "source": [
    "df_2015_N.head()"
   ]
  },
  {
   "cell_type": "code",
   "execution_count": 8,
   "id": "48ae8381",
   "metadata": {},
   "outputs": [
    {
     "name": "stderr",
     "output_type": "stream",
     "text": [
      "C:\\ProgramData\\Anaconda3\\lib\\site-packages\\IPython\\core\\interactiveshell.py:3165: DtypeWarning: Columns (1,2) have mixed types.Specify dtype option on import or set low_memory=False.\n",
      "  has_raised = await self.run_ast_nodes(code_ast.body, cell_name,\n"
     ]
    }
   ],
   "source": [
    "df_2016 = pd.read_csv('pob_identificada_2016.txt', delimiter=',', header=0)\n",
    "df_2016_N=df_2016.assign(PERIODO=2016)\n",
    "np.savetxt(\n",
    "    'df_2016_N.txt',\n",
    "    df_2016_N.values,\n",
    "    fmt='%s',\n",
    "    header=' '.join(df_2016_N.columns),\n",
    "    comments=''\n",
    ")"
   ]
  },
  {
   "cell_type": "code",
   "execution_count": 9,
   "id": "2ad0a66a",
   "metadata": {},
   "outputs": [
    {
     "data": {
      "text/html": [
       "<div>\n",
       "<style scoped>\n",
       "    .dataframe tbody tr th:only-of-type {\n",
       "        vertical-align: middle;\n",
       "    }\n",
       "\n",
       "    .dataframe tbody tr th {\n",
       "        vertical-align: top;\n",
       "    }\n",
       "\n",
       "    .dataframe thead th {\n",
       "        text-align: right;\n",
       "    }\n",
       "</style>\n",
       "<table border=\"1\" class=\"dataframe\">\n",
       "  <thead>\n",
       "    <tr style=\"text-align: right;\">\n",
       "      <th></th>\n",
       "      <th>RESIDENCIA</th>\n",
       "      <th>UBIGEO_RENIEC</th>\n",
       "      <th>UBIGEO_INEI</th>\n",
       "      <th>CONTINENTE</th>\n",
       "      <th>PAIS</th>\n",
       "      <th>DEPARTAMENTO</th>\n",
       "      <th>PROVINCIA</th>\n",
       "      <th>DISTRITO</th>\n",
       "      <th>SEXO</th>\n",
       "      <th>EDAD</th>\n",
       "      <th>CANTIDAD</th>\n",
       "      <th>PERIODO</th>\n",
       "    </tr>\n",
       "  </thead>\n",
       "  <tbody>\n",
       "    <tr>\n",
       "      <th>0</th>\n",
       "      <td>Nacional</td>\n",
       "      <td>10101</td>\n",
       "      <td>10101</td>\n",
       "      <td>América</td>\n",
       "      <td>Perú</td>\n",
       "      <td>Amazonas</td>\n",
       "      <td>Chachapoyas</td>\n",
       "      <td>Chachapoyas</td>\n",
       "      <td>Hombre</td>\n",
       "      <td>0</td>\n",
       "      <td>342</td>\n",
       "      <td>2016</td>\n",
       "    </tr>\n",
       "    <tr>\n",
       "      <th>1</th>\n",
       "      <td>Nacional</td>\n",
       "      <td>10101</td>\n",
       "      <td>10101</td>\n",
       "      <td>América</td>\n",
       "      <td>Perú</td>\n",
       "      <td>Amazonas</td>\n",
       "      <td>Chachapoyas</td>\n",
       "      <td>Chachapoyas</td>\n",
       "      <td>Hombre</td>\n",
       "      <td>1</td>\n",
       "      <td>312</td>\n",
       "      <td>2016</td>\n",
       "    </tr>\n",
       "    <tr>\n",
       "      <th>2</th>\n",
       "      <td>Nacional</td>\n",
       "      <td>10101</td>\n",
       "      <td>10101</td>\n",
       "      <td>América</td>\n",
       "      <td>Perú</td>\n",
       "      <td>Amazonas</td>\n",
       "      <td>Chachapoyas</td>\n",
       "      <td>Chachapoyas</td>\n",
       "      <td>Hombre</td>\n",
       "      <td>2</td>\n",
       "      <td>347</td>\n",
       "      <td>2016</td>\n",
       "    </tr>\n",
       "    <tr>\n",
       "      <th>3</th>\n",
       "      <td>Nacional</td>\n",
       "      <td>10101</td>\n",
       "      <td>10101</td>\n",
       "      <td>América</td>\n",
       "      <td>Perú</td>\n",
       "      <td>Amazonas</td>\n",
       "      <td>Chachapoyas</td>\n",
       "      <td>Chachapoyas</td>\n",
       "      <td>Hombre</td>\n",
       "      <td>3</td>\n",
       "      <td>328</td>\n",
       "      <td>2016</td>\n",
       "    </tr>\n",
       "    <tr>\n",
       "      <th>4</th>\n",
       "      <td>Nacional</td>\n",
       "      <td>10101</td>\n",
       "      <td>10101</td>\n",
       "      <td>América</td>\n",
       "      <td>Perú</td>\n",
       "      <td>Amazonas</td>\n",
       "      <td>Chachapoyas</td>\n",
       "      <td>Chachapoyas</td>\n",
       "      <td>Hombre</td>\n",
       "      <td>4</td>\n",
       "      <td>304</td>\n",
       "      <td>2016</td>\n",
       "    </tr>\n",
       "  </tbody>\n",
       "</table>\n",
       "</div>"
      ],
      "text/plain": [
       "  RESIDENCIA UBIGEO_RENIEC UBIGEO_INEI CONTINENTE  PAIS DEPARTAMENTO  \\\n",
       "0   Nacional         10101       10101    América  Perú     Amazonas   \n",
       "1   Nacional         10101       10101    América  Perú     Amazonas   \n",
       "2   Nacional         10101       10101    América  Perú     Amazonas   \n",
       "3   Nacional         10101       10101    América  Perú     Amazonas   \n",
       "4   Nacional         10101       10101    América  Perú     Amazonas   \n",
       "\n",
       "     PROVINCIA     DISTRITO    SEXO  EDAD  CANTIDAD  PERIODO  \n",
       "0  Chachapoyas  Chachapoyas  Hombre     0       342     2016  \n",
       "1  Chachapoyas  Chachapoyas  Hombre     1       312     2016  \n",
       "2  Chachapoyas  Chachapoyas  Hombre     2       347     2016  \n",
       "3  Chachapoyas  Chachapoyas  Hombre     3       328     2016  \n",
       "4  Chachapoyas  Chachapoyas  Hombre     4       304     2016  "
      ]
     },
     "execution_count": 9,
     "metadata": {},
     "output_type": "execute_result"
    }
   ],
   "source": [
    "df_2016_N.head()"
   ]
  },
  {
   "cell_type": "code",
   "execution_count": 10,
   "id": "a3a1cc85",
   "metadata": {},
   "outputs": [
    {
     "name": "stderr",
     "output_type": "stream",
     "text": [
      "C:\\ProgramData\\Anaconda3\\lib\\site-packages\\IPython\\core\\interactiveshell.py:3165: DtypeWarning: Columns (1,2) have mixed types.Specify dtype option on import or set low_memory=False.\n",
      "  has_raised = await self.run_ast_nodes(code_ast.body, cell_name,\n"
     ]
    },
    {
     "data": {
      "text/html": [
       "<div>\n",
       "<style scoped>\n",
       "    .dataframe tbody tr th:only-of-type {\n",
       "        vertical-align: middle;\n",
       "    }\n",
       "\n",
       "    .dataframe tbody tr th {\n",
       "        vertical-align: top;\n",
       "    }\n",
       "\n",
       "    .dataframe thead th {\n",
       "        text-align: right;\n",
       "    }\n",
       "</style>\n",
       "<table border=\"1\" class=\"dataframe\">\n",
       "  <thead>\n",
       "    <tr style=\"text-align: right;\">\n",
       "      <th></th>\n",
       "      <th>RESIDENCIA</th>\n",
       "      <th>UBIGEO_RENIEC</th>\n",
       "      <th>UBIGEO_INEI</th>\n",
       "      <th>CONTINENTE</th>\n",
       "      <th>PAIS</th>\n",
       "      <th>DEPARTAMENTO</th>\n",
       "      <th>PROVINCIA</th>\n",
       "      <th>DISTRITO</th>\n",
       "      <th>SEXO</th>\n",
       "      <th>EDAD</th>\n",
       "      <th>CANTIDAD</th>\n",
       "      <th>PERIODO</th>\n",
       "    </tr>\n",
       "  </thead>\n",
       "  <tbody>\n",
       "    <tr>\n",
       "      <th>0</th>\n",
       "      <td>Nacional</td>\n",
       "      <td>10101</td>\n",
       "      <td>10101</td>\n",
       "      <td>América</td>\n",
       "      <td>Perú</td>\n",
       "      <td>Amazonas</td>\n",
       "      <td>Chachapoyas</td>\n",
       "      <td>Chachapoyas</td>\n",
       "      <td>Hombre</td>\n",
       "      <td>0</td>\n",
       "      <td>352</td>\n",
       "      <td>2017</td>\n",
       "    </tr>\n",
       "    <tr>\n",
       "      <th>1</th>\n",
       "      <td>Nacional</td>\n",
       "      <td>10101</td>\n",
       "      <td>10101</td>\n",
       "      <td>América</td>\n",
       "      <td>Perú</td>\n",
       "      <td>Amazonas</td>\n",
       "      <td>Chachapoyas</td>\n",
       "      <td>Chachapoyas</td>\n",
       "      <td>Hombre</td>\n",
       "      <td>1</td>\n",
       "      <td>357</td>\n",
       "      <td>2017</td>\n",
       "    </tr>\n",
       "    <tr>\n",
       "      <th>2</th>\n",
       "      <td>Nacional</td>\n",
       "      <td>10101</td>\n",
       "      <td>10101</td>\n",
       "      <td>América</td>\n",
       "      <td>Perú</td>\n",
       "      <td>Amazonas</td>\n",
       "      <td>Chachapoyas</td>\n",
       "      <td>Chachapoyas</td>\n",
       "      <td>Hombre</td>\n",
       "      <td>2</td>\n",
       "      <td>312</td>\n",
       "      <td>2017</td>\n",
       "    </tr>\n",
       "    <tr>\n",
       "      <th>3</th>\n",
       "      <td>Nacional</td>\n",
       "      <td>10101</td>\n",
       "      <td>10101</td>\n",
       "      <td>América</td>\n",
       "      <td>Perú</td>\n",
       "      <td>Amazonas</td>\n",
       "      <td>Chachapoyas</td>\n",
       "      <td>Chachapoyas</td>\n",
       "      <td>Hombre</td>\n",
       "      <td>3</td>\n",
       "      <td>345</td>\n",
       "      <td>2017</td>\n",
       "    </tr>\n",
       "    <tr>\n",
       "      <th>4</th>\n",
       "      <td>Nacional</td>\n",
       "      <td>10101</td>\n",
       "      <td>10101</td>\n",
       "      <td>América</td>\n",
       "      <td>Perú</td>\n",
       "      <td>Amazonas</td>\n",
       "      <td>Chachapoyas</td>\n",
       "      <td>Chachapoyas</td>\n",
       "      <td>Hombre</td>\n",
       "      <td>4</td>\n",
       "      <td>324</td>\n",
       "      <td>2017</td>\n",
       "    </tr>\n",
       "  </tbody>\n",
       "</table>\n",
       "</div>"
      ],
      "text/plain": [
       "  RESIDENCIA UBIGEO_RENIEC UBIGEO_INEI CONTINENTE  PAIS DEPARTAMENTO  \\\n",
       "0   Nacional         10101       10101    América  Perú     Amazonas   \n",
       "1   Nacional         10101       10101    América  Perú     Amazonas   \n",
       "2   Nacional         10101       10101    América  Perú     Amazonas   \n",
       "3   Nacional         10101       10101    América  Perú     Amazonas   \n",
       "4   Nacional         10101       10101    América  Perú     Amazonas   \n",
       "\n",
       "     PROVINCIA     DISTRITO    SEXO  EDAD  CANTIDAD  PERIODO  \n",
       "0  Chachapoyas  Chachapoyas  Hombre     0       352     2017  \n",
       "1  Chachapoyas  Chachapoyas  Hombre     1       357     2017  \n",
       "2  Chachapoyas  Chachapoyas  Hombre     2       312     2017  \n",
       "3  Chachapoyas  Chachapoyas  Hombre     3       345     2017  \n",
       "4  Chachapoyas  Chachapoyas  Hombre     4       324     2017  "
      ]
     },
     "execution_count": 10,
     "metadata": {},
     "output_type": "execute_result"
    }
   ],
   "source": [
    "df_2017 = pd.read_csv('pob_identificada_2017.txt', delimiter=',', header=0)\n",
    "df_2017_N=df_2017.assign(PERIODO=2017)\n",
    "\n",
    "np.savetxt(\n",
    "    'df_2017_N.txt',\n",
    "    df_2017_N.values,\n",
    "    fmt='%s',\n",
    "    header=' '.join(df_2017_N.columns),\n",
    "    comments=''\n",
    ")\n",
    "    \n",
    "df_2017_N.head()        "
   ]
  },
  {
   "cell_type": "code",
   "execution_count": 11,
   "id": "f8e1f7f9",
   "metadata": {},
   "outputs": [
    {
     "name": "stderr",
     "output_type": "stream",
     "text": [
      "C:\\ProgramData\\Anaconda3\\lib\\site-packages\\IPython\\core\\interactiveshell.py:3165: DtypeWarning: Columns (1,2) have mixed types.Specify dtype option on import or set low_memory=False.\n",
      "  has_raised = await self.run_ast_nodes(code_ast.body, cell_name,\n"
     ]
    },
    {
     "data": {
      "text/html": [
       "<div>\n",
       "<style scoped>\n",
       "    .dataframe tbody tr th:only-of-type {\n",
       "        vertical-align: middle;\n",
       "    }\n",
       "\n",
       "    .dataframe tbody tr th {\n",
       "        vertical-align: top;\n",
       "    }\n",
       "\n",
       "    .dataframe thead th {\n",
       "        text-align: right;\n",
       "    }\n",
       "</style>\n",
       "<table border=\"1\" class=\"dataframe\">\n",
       "  <thead>\n",
       "    <tr style=\"text-align: right;\">\n",
       "      <th></th>\n",
       "      <th>RESIDENCIA</th>\n",
       "      <th>UBIGEO_RENIEC</th>\n",
       "      <th>UBIGEO_INEI</th>\n",
       "      <th>CONTINENTE</th>\n",
       "      <th>PAIS</th>\n",
       "      <th>DEPARTAMENTO</th>\n",
       "      <th>PROVINCIA</th>\n",
       "      <th>DISTRITO</th>\n",
       "      <th>SEXO</th>\n",
       "      <th>EDAD</th>\n",
       "      <th>CANTIDAD</th>\n",
       "      <th>PERIODO</th>\n",
       "    </tr>\n",
       "  </thead>\n",
       "  <tbody>\n",
       "    <tr>\n",
       "      <th>0</th>\n",
       "      <td>Nacional</td>\n",
       "      <td>10101</td>\n",
       "      <td>10101</td>\n",
       "      <td>América</td>\n",
       "      <td>Perú</td>\n",
       "      <td>Amazonas</td>\n",
       "      <td>Chachapoyas</td>\n",
       "      <td>Chachapoyas</td>\n",
       "      <td>Hombre</td>\n",
       "      <td>0</td>\n",
       "      <td>336</td>\n",
       "      <td>2018</td>\n",
       "    </tr>\n",
       "    <tr>\n",
       "      <th>1</th>\n",
       "      <td>Nacional</td>\n",
       "      <td>10101</td>\n",
       "      <td>10101</td>\n",
       "      <td>América</td>\n",
       "      <td>Perú</td>\n",
       "      <td>Amazonas</td>\n",
       "      <td>Chachapoyas</td>\n",
       "      <td>Chachapoyas</td>\n",
       "      <td>Hombre</td>\n",
       "      <td>1</td>\n",
       "      <td>366</td>\n",
       "      <td>2018</td>\n",
       "    </tr>\n",
       "    <tr>\n",
       "      <th>2</th>\n",
       "      <td>Nacional</td>\n",
       "      <td>10101</td>\n",
       "      <td>10101</td>\n",
       "      <td>América</td>\n",
       "      <td>Perú</td>\n",
       "      <td>Amazonas</td>\n",
       "      <td>Chachapoyas</td>\n",
       "      <td>Chachapoyas</td>\n",
       "      <td>Hombre</td>\n",
       "      <td>2</td>\n",
       "      <td>361</td>\n",
       "      <td>2018</td>\n",
       "    </tr>\n",
       "    <tr>\n",
       "      <th>3</th>\n",
       "      <td>Nacional</td>\n",
       "      <td>10101</td>\n",
       "      <td>10101</td>\n",
       "      <td>América</td>\n",
       "      <td>Perú</td>\n",
       "      <td>Amazonas</td>\n",
       "      <td>Chachapoyas</td>\n",
       "      <td>Chachapoyas</td>\n",
       "      <td>Hombre</td>\n",
       "      <td>3</td>\n",
       "      <td>311</td>\n",
       "      <td>2018</td>\n",
       "    </tr>\n",
       "    <tr>\n",
       "      <th>4</th>\n",
       "      <td>Nacional</td>\n",
       "      <td>10101</td>\n",
       "      <td>10101</td>\n",
       "      <td>América</td>\n",
       "      <td>Perú</td>\n",
       "      <td>Amazonas</td>\n",
       "      <td>Chachapoyas</td>\n",
       "      <td>Chachapoyas</td>\n",
       "      <td>Hombre</td>\n",
       "      <td>4</td>\n",
       "      <td>347</td>\n",
       "      <td>2018</td>\n",
       "    </tr>\n",
       "  </tbody>\n",
       "</table>\n",
       "</div>"
      ],
      "text/plain": [
       "  RESIDENCIA UBIGEO_RENIEC UBIGEO_INEI CONTINENTE  PAIS DEPARTAMENTO  \\\n",
       "0   Nacional         10101       10101    América  Perú     Amazonas   \n",
       "1   Nacional         10101       10101    América  Perú     Amazonas   \n",
       "2   Nacional         10101       10101    América  Perú     Amazonas   \n",
       "3   Nacional         10101       10101    América  Perú     Amazonas   \n",
       "4   Nacional         10101       10101    América  Perú     Amazonas   \n",
       "\n",
       "     PROVINCIA     DISTRITO    SEXO  EDAD  CANTIDAD  PERIODO  \n",
       "0  Chachapoyas  Chachapoyas  Hombre     0       336     2018  \n",
       "1  Chachapoyas  Chachapoyas  Hombre     1       366     2018  \n",
       "2  Chachapoyas  Chachapoyas  Hombre     2       361     2018  \n",
       "3  Chachapoyas  Chachapoyas  Hombre     3       311     2018  \n",
       "4  Chachapoyas  Chachapoyas  Hombre     4       347     2018  "
      ]
     },
     "execution_count": 11,
     "metadata": {},
     "output_type": "execute_result"
    }
   ],
   "source": [
    "df_2018 = pd.read_csv('pob_identificada_2018.txt', delimiter=',', header=0)\n",
    "df_2018_N=df_2018.assign(PERIODO=2018)\n",
    "\n",
    "np.savetxt(\n",
    "    'df_2018_N.txt',\n",
    "    df_2018_N.values,\n",
    "    fmt='%s',\n",
    "    header=' '.join(df_2018_N.columns),\n",
    "    comments=''\n",
    ")\n",
    "    \n",
    "df_2018_N.head()    "
   ]
  },
  {
   "cell_type": "code",
   "execution_count": 12,
   "id": "b03fc3a1",
   "metadata": {},
   "outputs": [
    {
     "name": "stderr",
     "output_type": "stream",
     "text": [
      "C:\\ProgramData\\Anaconda3\\lib\\site-packages\\IPython\\core\\interactiveshell.py:3165: DtypeWarning: Columns (5,6,7) have mixed types.Specify dtype option on import or set low_memory=False.\n",
      "  has_raised = await self.run_ast_nodes(code_ast.body, cell_name,\n"
     ]
    }
   ],
   "source": [
    "df_2019 = pd.read_csv('pob_identificada_2019.txt', delimiter=',', header=0)\n",
    "df_2019_N=df_2019.assign(PERIODO=2019)   \n",
    "\n",
    "np.savetxt(\n",
    "    'df_2019_N.txt',\n",
    "    df_2019_N.values,\n",
    "    fmt='%s',\n",
    "    header=' '.join(df_2019_N.columns),\n",
    "    comments=''\n",
    ")\n"
   ]
  },
  {
   "cell_type": "code",
   "execution_count": 13,
   "id": "9a584c22",
   "metadata": {},
   "outputs": [
    {
     "data": {
      "text/html": [
       "<div>\n",
       "<style scoped>\n",
       "    .dataframe tbody tr th:only-of-type {\n",
       "        vertical-align: middle;\n",
       "    }\n",
       "\n",
       "    .dataframe tbody tr th {\n",
       "        vertical-align: top;\n",
       "    }\n",
       "\n",
       "    .dataframe thead th {\n",
       "        text-align: right;\n",
       "    }\n",
       "</style>\n",
       "<table border=\"1\" class=\"dataframe\">\n",
       "  <thead>\n",
       "    <tr style=\"text-align: right;\">\n",
       "      <th></th>\n",
       "      <th>RESIDENCIA</th>\n",
       "      <th>UBIGEO_RENIEC</th>\n",
       "      <th>UBIGEO_INEI</th>\n",
       "      <th>CONTINENTE</th>\n",
       "      <th>PAIS</th>\n",
       "      <th>DEPARTAMENTO</th>\n",
       "      <th>PROVINCIA</th>\n",
       "      <th>DISTRITO</th>\n",
       "      <th>SEXO</th>\n",
       "      <th>EDAD</th>\n",
       "      <th>CANTIDAD</th>\n",
       "      <th>PERIODO</th>\n",
       "    </tr>\n",
       "  </thead>\n",
       "  <tbody>\n",
       "    <tr>\n",
       "      <th>0</th>\n",
       "      <td>Nacional</td>\n",
       "      <td>10101</td>\n",
       "      <td>10101.0</td>\n",
       "      <td>América</td>\n",
       "      <td>América</td>\n",
       "      <td>Amazonas</td>\n",
       "      <td>Chachapoyas</td>\n",
       "      <td>Chachapoyas</td>\n",
       "      <td>Hombre</td>\n",
       "      <td>0</td>\n",
       "      <td>352</td>\n",
       "      <td>2019</td>\n",
       "    </tr>\n",
       "    <tr>\n",
       "      <th>1</th>\n",
       "      <td>Nacional</td>\n",
       "      <td>10101</td>\n",
       "      <td>10101.0</td>\n",
       "      <td>América</td>\n",
       "      <td>América</td>\n",
       "      <td>Amazonas</td>\n",
       "      <td>Chachapoyas</td>\n",
       "      <td>Chachapoyas</td>\n",
       "      <td>Hombre</td>\n",
       "      <td>1</td>\n",
       "      <td>355</td>\n",
       "      <td>2019</td>\n",
       "    </tr>\n",
       "    <tr>\n",
       "      <th>2</th>\n",
       "      <td>Nacional</td>\n",
       "      <td>10101</td>\n",
       "      <td>10101.0</td>\n",
       "      <td>América</td>\n",
       "      <td>América</td>\n",
       "      <td>Amazonas</td>\n",
       "      <td>Chachapoyas</td>\n",
       "      <td>Chachapoyas</td>\n",
       "      <td>Hombre</td>\n",
       "      <td>2</td>\n",
       "      <td>365</td>\n",
       "      <td>2019</td>\n",
       "    </tr>\n",
       "    <tr>\n",
       "      <th>3</th>\n",
       "      <td>Nacional</td>\n",
       "      <td>10101</td>\n",
       "      <td>10101.0</td>\n",
       "      <td>América</td>\n",
       "      <td>América</td>\n",
       "      <td>Amazonas</td>\n",
       "      <td>Chachapoyas</td>\n",
       "      <td>Chachapoyas</td>\n",
       "      <td>Hombre</td>\n",
       "      <td>3</td>\n",
       "      <td>360</td>\n",
       "      <td>2019</td>\n",
       "    </tr>\n",
       "    <tr>\n",
       "      <th>4</th>\n",
       "      <td>Nacional</td>\n",
       "      <td>10101</td>\n",
       "      <td>10101.0</td>\n",
       "      <td>América</td>\n",
       "      <td>América</td>\n",
       "      <td>Amazonas</td>\n",
       "      <td>Chachapoyas</td>\n",
       "      <td>Chachapoyas</td>\n",
       "      <td>Hombre</td>\n",
       "      <td>4</td>\n",
       "      <td>311</td>\n",
       "      <td>2019</td>\n",
       "    </tr>\n",
       "  </tbody>\n",
       "</table>\n",
       "</div>"
      ],
      "text/plain": [
       "  RESIDENCIA  UBIGEO_RENIEC  UBIGEO_INEI CONTINENTE     PAIS DEPARTAMENTO  \\\n",
       "0   Nacional          10101      10101.0    América  América     Amazonas   \n",
       "1   Nacional          10101      10101.0    América  América     Amazonas   \n",
       "2   Nacional          10101      10101.0    América  América     Amazonas   \n",
       "3   Nacional          10101      10101.0    América  América     Amazonas   \n",
       "4   Nacional          10101      10101.0    América  América     Amazonas   \n",
       "\n",
       "     PROVINCIA     DISTRITO    SEXO  EDAD  CANTIDAD  PERIODO  \n",
       "0  Chachapoyas  Chachapoyas  Hombre     0       352     2019  \n",
       "1  Chachapoyas  Chachapoyas  Hombre     1       355     2019  \n",
       "2  Chachapoyas  Chachapoyas  Hombre     2       365     2019  \n",
       "3  Chachapoyas  Chachapoyas  Hombre     3       360     2019  \n",
       "4  Chachapoyas  Chachapoyas  Hombre     4       311     2019  "
      ]
     },
     "execution_count": 13,
     "metadata": {},
     "output_type": "execute_result"
    }
   ],
   "source": [
    "df_2019_N.head()"
   ]
  },
  {
   "cell_type": "code",
   "execution_count": 94,
   "id": "c4bb91a0",
   "metadata": {},
   "outputs": [],
   "source": [
    "df_2020 = pd.read_csv('pob_identificada_2020.txt', delimiter=',', header=0)\n",
    "df_2020_N=df_2020.assign(PERIODO=2020)   \n",
    "\n",
    "np.savetxt(\n",
    "    'df_2020_N.txt',\n",
    "    df_2020_N.values,\n",
    "    fmt='%s',\n",
    "    header=' '.join(df_2020_N.columns),\n",
    "    comments=''\n",
    ")"
   ]
  },
  {
   "cell_type": "code",
   "execution_count": 95,
   "id": "4e559e43",
   "metadata": {},
   "outputs": [
    {
     "data": {
      "text/html": [
       "<div>\n",
       "<style scoped>\n",
       "    .dataframe tbody tr th:only-of-type {\n",
       "        vertical-align: middle;\n",
       "    }\n",
       "\n",
       "    .dataframe tbody tr th {\n",
       "        vertical-align: top;\n",
       "    }\n",
       "\n",
       "    .dataframe thead th {\n",
       "        text-align: right;\n",
       "    }\n",
       "</style>\n",
       "<table border=\"1\" class=\"dataframe\">\n",
       "  <thead>\n",
       "    <tr style=\"text-align: right;\">\n",
       "      <th></th>\n",
       "      <th>RESIDENCIA</th>\n",
       "      <th>UBIGEO_RENIEC</th>\n",
       "      <th>UBIGEO_INEI</th>\n",
       "      <th>CONTINENTE</th>\n",
       "      <th>PAIS</th>\n",
       "      <th>DEPARTAMENTO</th>\n",
       "      <th>PROVINCIA</th>\n",
       "      <th>DISTRITO</th>\n",
       "      <th>SEXO</th>\n",
       "      <th>EDAD</th>\n",
       "      <th>CANTIDAD</th>\n",
       "      <th>PERIODO</th>\n",
       "    </tr>\n",
       "  </thead>\n",
       "  <tbody>\n",
       "    <tr>\n",
       "      <th>0</th>\n",
       "      <td>Nacional</td>\n",
       "      <td>10101.0</td>\n",
       "      <td>10101.0</td>\n",
       "      <td>América</td>\n",
       "      <td>Perú</td>\n",
       "      <td>Amazonas</td>\n",
       "      <td>Chachapoyas</td>\n",
       "      <td>Chachapoyas</td>\n",
       "      <td>Hombre</td>\n",
       "      <td>0</td>\n",
       "      <td>198</td>\n",
       "      <td>2020</td>\n",
       "    </tr>\n",
       "    <tr>\n",
       "      <th>1</th>\n",
       "      <td>Nacional</td>\n",
       "      <td>10101.0</td>\n",
       "      <td>10101.0</td>\n",
       "      <td>América</td>\n",
       "      <td>Perú</td>\n",
       "      <td>Amazonas</td>\n",
       "      <td>Chachapoyas</td>\n",
       "      <td>Chachapoyas</td>\n",
       "      <td>Hombre</td>\n",
       "      <td>1</td>\n",
       "      <td>371</td>\n",
       "      <td>2020</td>\n",
       "    </tr>\n",
       "    <tr>\n",
       "      <th>2</th>\n",
       "      <td>Nacional</td>\n",
       "      <td>10101.0</td>\n",
       "      <td>10101.0</td>\n",
       "      <td>América</td>\n",
       "      <td>Perú</td>\n",
       "      <td>Amazonas</td>\n",
       "      <td>Chachapoyas</td>\n",
       "      <td>Chachapoyas</td>\n",
       "      <td>Hombre</td>\n",
       "      <td>2</td>\n",
       "      <td>355</td>\n",
       "      <td>2020</td>\n",
       "    </tr>\n",
       "    <tr>\n",
       "      <th>3</th>\n",
       "      <td>Nacional</td>\n",
       "      <td>10101.0</td>\n",
       "      <td>10101.0</td>\n",
       "      <td>América</td>\n",
       "      <td>Perú</td>\n",
       "      <td>Amazonas</td>\n",
       "      <td>Chachapoyas</td>\n",
       "      <td>Chachapoyas</td>\n",
       "      <td>Hombre</td>\n",
       "      <td>3</td>\n",
       "      <td>365</td>\n",
       "      <td>2020</td>\n",
       "    </tr>\n",
       "    <tr>\n",
       "      <th>4</th>\n",
       "      <td>Nacional</td>\n",
       "      <td>10101.0</td>\n",
       "      <td>10101.0</td>\n",
       "      <td>América</td>\n",
       "      <td>Perú</td>\n",
       "      <td>Amazonas</td>\n",
       "      <td>Chachapoyas</td>\n",
       "      <td>Chachapoyas</td>\n",
       "      <td>Hombre</td>\n",
       "      <td>4</td>\n",
       "      <td>357</td>\n",
       "      <td>2020</td>\n",
       "    </tr>\n",
       "  </tbody>\n",
       "</table>\n",
       "</div>"
      ],
      "text/plain": [
       "  RESIDENCIA  UBIGEO_RENIEC  UBIGEO_INEI CONTINENTE  PAIS DEPARTAMENTO  \\\n",
       "0   Nacional        10101.0      10101.0    América  Perú     Amazonas   \n",
       "1   Nacional        10101.0      10101.0    América  Perú     Amazonas   \n",
       "2   Nacional        10101.0      10101.0    América  Perú     Amazonas   \n",
       "3   Nacional        10101.0      10101.0    América  Perú     Amazonas   \n",
       "4   Nacional        10101.0      10101.0    América  Perú     Amazonas   \n",
       "\n",
       "     PROVINCIA     DISTRITO    SEXO  EDAD  CANTIDAD  PERIODO  \n",
       "0  Chachapoyas  Chachapoyas  Hombre     0       198     2020  \n",
       "1  Chachapoyas  Chachapoyas  Hombre     1       371     2020  \n",
       "2  Chachapoyas  Chachapoyas  Hombre     2       355     2020  \n",
       "3  Chachapoyas  Chachapoyas  Hombre     3       365     2020  \n",
       "4  Chachapoyas  Chachapoyas  Hombre     4       357     2020  "
      ]
     },
     "execution_count": 95,
     "metadata": {},
     "output_type": "execute_result"
    }
   ],
   "source": [
    "df_2020_N.head()"
   ]
  },
  {
   "cell_type": "code",
   "execution_count": 96,
   "id": "86992c1e",
   "metadata": {},
   "outputs": [
    {
     "data": {
      "text/plain": [
       "(2726214, 12)"
      ]
     },
     "execution_count": 96,
     "metadata": {},
     "output_type": "execute_result"
    }
   ],
   "source": [
    "Total_periodo=pd.concat([df_2014_N ,df_2015_N,df_2016_N, df_2017_N,df_2018_N,df_2019_N,df_2020_N], ignore_index=True, axis=0)\n",
    "Total_periodo.shape"
   ]
  },
  {
   "cell_type": "code",
   "execution_count": 97,
   "id": "7c290446",
   "metadata": {},
   "outputs": [
    {
     "name": "stdout",
     "output_type": "stream",
     "text": [
      "(395645, 12)\n",
      "(354724, 12)\n",
      "(359233, 12)\n",
      "(413269, 12)\n",
      "(416935, 12)\n",
      "(420843, 12)\n",
      "(365565, 12)\n"
     ]
    }
   ],
   "source": [
    "print(df_2014_N.shape)\n",
    "print(df_2015_N.shape)\n",
    "print(df_2016_N.shape)\n",
    "print(df_2017_N.shape)\n",
    "print(df_2018_N.shape)\n",
    "print(df_2019_N.shape)\n",
    "print(df_2020_N.shape)"
   ]
  },
  {
   "cell_type": "code",
   "execution_count": 98,
   "id": "0269f394",
   "metadata": {},
   "outputs": [],
   "source": [
    "np.savetxt('Total_periodo.txt',Total_periodo,fmt='%s', header=','.join(af))"
   ]
  },
  {
   "cell_type": "code",
   "execution_count": 99,
   "id": "78e43311",
   "metadata": {},
   "outputs": [],
   "source": [
    "df=Total_periodo"
   ]
  },
  {
   "cell_type": "code",
   "execution_count": 100,
   "id": "6479b462",
   "metadata": {},
   "outputs": [
    {
     "data": {
      "text/plain": [
       "Index(['RESIDENCIA', 'UBIGEO_RENIEC', 'UBIGEO_INEI', 'CONTINENTE', 'PAIS',\n",
       "       'DEPARTAMENTO', 'PROVINCIA', 'DISTRITO', 'SEXO', 'EDAD', 'CANTIDAD',\n",
       "       'PERIODO'],\n",
       "      dtype='object')"
      ]
     },
     "execution_count": 100,
     "metadata": {},
     "output_type": "execute_result"
    }
   ],
   "source": [
    "df.columns"
   ]
  },
  {
   "cell_type": "code",
   "execution_count": 101,
   "id": "dc473529",
   "metadata": {},
   "outputs": [
    {
     "data": {
      "text/plain": [
       "RESIDENCIA       object\n",
       "UBIGEO_RENIEC    object\n",
       "UBIGEO_INEI      object\n",
       "CONTINENTE       object\n",
       "PAIS             object\n",
       "DEPARTAMENTO     object\n",
       "PROVINCIA        object\n",
       "DISTRITO         object\n",
       "SEXO             object\n",
       "EDAD              int64\n",
       "CANTIDAD          int64\n",
       "PERIODO           int64\n",
       "dtype: object"
      ]
     },
     "execution_count": 101,
     "metadata": {},
     "output_type": "execute_result"
    }
   ],
   "source": [
    "df.dtypes"
   ]
  },
  {
   "cell_type": "code",
   "execution_count": 102,
   "id": "1c39c4b1",
   "metadata": {},
   "outputs": [
    {
     "data": {
      "text/plain": [
       "RESIDENCIA       595765\n",
       "UBIGEO_RENIEC    590925\n",
       "UBIGEO_INEI      558618\n",
       "CONTINENTE       595765\n",
       "PAIS             595765\n",
       "DEPARTAMENTO     558618\n",
       "PROVINCIA        558618\n",
       "DISTRITO         558618\n",
       "SEXO             595765\n",
       "EDAD             595765\n",
       "CANTIDAD         595765\n",
       "PERIODO          595765\n",
       "dtype: int64"
      ]
     },
     "execution_count": 102,
     "metadata": {},
     "output_type": "execute_result"
    }
   ],
   "source": [
    "df[(df['SEXO']=='Hombre')& (df['PERIODO']>=2018)].count()"
   ]
  },
  {
   "cell_type": "markdown",
   "id": "1ac616dd",
   "metadata": {},
   "source": [
    "## From  2016 through 2018 and  in the  department of Arequipa.  What  percentage of women represent female teenagers? [Hint: a teenager is a person whose  age is between 10 to 19 years]"
   ]
  },
  {
   "cell_type": "code",
   "execution_count": 103,
   "id": "a079da6b",
   "metadata": {},
   "outputs": [
    {
     "data": {
      "text/plain": [
       "RESIDENCIA       38012\n",
       "UBIGEO_RENIEC    38012\n",
       "UBIGEO_INEI      38012\n",
       "CONTINENTE       38012\n",
       "PAIS             38012\n",
       "DEPARTAMENTO     38012\n",
       "PROVINCIA        38012\n",
       "DISTRITO         38012\n",
       "SEXO             38012\n",
       "EDAD             38012\n",
       "CANTIDAD         38012\n",
       "PERIODO          38012\n",
       "dtype: int64"
      ]
     },
     "execution_count": 103,
     "metadata": {},
     "output_type": "execute_result"
    }
   ],
   "source": [
    " df_2016_N[(df_2016_N['EDAD']>=10) & (df_2016_N['EDAD']<=19)].count()"
   ]
  },
  {
   "cell_type": "code",
   "execution_count": 104,
   "id": "85a4fd83",
   "metadata": {},
   "outputs": [
    {
     "data": {
      "text/plain": [
       "RESIDENCIA       38012\n",
       "UBIGEO_RENIEC    38012\n",
       "UBIGEO_INEI      38012\n",
       "CONTINENTE       38012\n",
       "PAIS             38012\n",
       "DEPARTAMENTO     38012\n",
       "PROVINCIA        38012\n",
       "DISTRITO         38012\n",
       "SEXO             38012\n",
       "EDAD             38012\n",
       "CANTIDAD         38012\n",
       "PERIODO          38012\n",
       "dtype: int64"
      ]
     },
     "execution_count": 104,
     "metadata": {},
     "output_type": "execute_result"
    }
   ],
   "source": [
    " df_2016_N.loc[ df_2016_N['EDAD'].between(10,19) ].count()"
   ]
  },
  {
   "cell_type": "code",
   "execution_count": 105,
   "id": "d91dc653",
   "metadata": {},
   "outputs": [
    {
     "data": {
      "text/plain": [
       "RESIDENCIA       43372\n",
       "UBIGEO_RENIEC    43372\n",
       "UBIGEO_INEI      43372\n",
       "CONTINENTE       43372\n",
       "PAIS             43372\n",
       "DEPARTAMENTO     43372\n",
       "PROVINCIA        43372\n",
       "DISTRITO         43372\n",
       "SEXO             43372\n",
       "EDAD             43372\n",
       "CANTIDAD         43372\n",
       "PERIODO          43372\n",
       "dtype: int64"
      ]
     },
     "execution_count": 105,
     "metadata": {},
     "output_type": "execute_result"
    }
   ],
   "source": [
    "df_2017_N[(df_2017_N['EDAD']>=10) & (df_2017_N['EDAD']<=19)].count()"
   ]
  },
  {
   "cell_type": "code",
   "execution_count": 106,
   "id": "d9df6b67",
   "metadata": {},
   "outputs": [
    {
     "data": {
      "text/plain": [
       "RESIDENCIA       43843\n",
       "UBIGEO_RENIEC    43843\n",
       "UBIGEO_INEI      43843\n",
       "CONTINENTE       43843\n",
       "PAIS             43843\n",
       "DEPARTAMENTO     43843\n",
       "PROVINCIA        43843\n",
       "DISTRITO         43843\n",
       "SEXO             43843\n",
       "EDAD             43843\n",
       "CANTIDAD         43843\n",
       "PERIODO          43843\n",
       "dtype: int64"
      ]
     },
     "execution_count": 106,
     "metadata": {},
     "output_type": "execute_result"
    }
   ],
   "source": [
    "df_2018_N[(df_2018_N['EDAD']>=10) & (df_2018_N['EDAD']<=19)].count()"
   ]
  },
  {
   "cell_type": "code",
   "execution_count": 107,
   "id": "231a2133",
   "metadata": {},
   "outputs": [
    {
     "data": {
      "text/plain": [
       "RESIDENCIA       849872\n",
       "UBIGEO_RENIEC    847981\n",
       "UBIGEO_INEI      835514\n",
       "CONTINENTE       849872\n",
       "PAIS             849872\n",
       "DEPARTAMENTO     835514\n",
       "PROVINCIA        835514\n",
       "DISTRITO         835514\n",
       "SEXO             849872\n",
       "EDAD             849872\n",
       "CANTIDAD         849872\n",
       "PERIODO          849872\n",
       "dtype: int64"
      ]
     },
     "execution_count": 107,
     "metadata": {},
     "output_type": "execute_result"
    }
   ],
   "source": [
    "df[(df['PERIODO']==2016) & (df['EDAD']>=10)| (df['EDAD']<=19)].count()"
   ]
  },
  {
   "cell_type": "code",
   "execution_count": 108,
   "id": "3d9c0bf8",
   "metadata": {},
   "outputs": [
    {
     "data": {
      "text/plain": [
       "RESIDENCIA       849872\n",
       "UBIGEO_RENIEC    847981\n",
       "UBIGEO_INEI      835514\n",
       "CONTINENTE       849872\n",
       "PAIS             849872\n",
       "DEPARTAMENTO     835514\n",
       "PROVINCIA        835514\n",
       "DISTRITO         835514\n",
       "SEXO             849872\n",
       "EDAD             849872\n",
       "CANTIDAD         849872\n",
       "PERIODO          849872\n",
       "dtype: int64"
      ]
     },
     "execution_count": 108,
     "metadata": {},
     "output_type": "execute_result"
    }
   ],
   "source": [
    "df[((df['PERIODO']==2016) & (df['EDAD']>=10)) | (df['EDAD']<=19)].count()"
   ]
  },
  {
   "cell_type": "code",
   "execution_count": 109,
   "id": "331863e7",
   "metadata": {},
   "outputs": [
    {
     "data": {
      "text/plain": [
       "RESIDENCIA       0\n",
       "UBIGEO_RENIEC    0\n",
       "UBIGEO_INEI      0\n",
       "CONTINENTE       0\n",
       "PAIS             0\n",
       "DEPARTAMENTO     0\n",
       "PROVINCIA        0\n",
       "DISTRITO         0\n",
       "SEXO             0\n",
       "EDAD             0\n",
       "CANTIDAD         0\n",
       "PERIODO          0\n",
       "dtype: int64"
      ]
     },
     "execution_count": 109,
     "metadata": {},
     "output_type": "execute_result"
    }
   ],
   "source": [
    " df.loc[ df['EDAD'].between(10,19)  & df['PERIODO']==2016].count()"
   ]
  },
  {
   "cell_type": "code",
   "execution_count": 110,
   "id": "1a684a2d",
   "metadata": {},
   "outputs": [
    {
     "data": {
      "text/plain": [
       "RESIDENCIA       409314\n",
       "UBIGEO_RENIEC    409110\n",
       "UBIGEO_INEI      407646\n",
       "CONTINENTE       409314\n",
       "PAIS             409314\n",
       "DEPARTAMENTO     407646\n",
       "PROVINCIA        407646\n",
       "DISTRITO         407646\n",
       "SEXO             409314\n",
       "EDAD             409314\n",
       "CANTIDAD         409314\n",
       "PERIODO          409314\n",
       "dtype: int64"
      ]
     },
     "execution_count": 110,
     "metadata": {},
     "output_type": "execute_result"
    }
   ],
   "source": [
    " df[\n",
    "    df['PERIODO'].isin([2016]) |\n",
    "    df['EDAD'].isin([10, 19])\n",
    "].count()"
   ]
  },
  {
   "cell_type": "code",
   "execution_count": 111,
   "id": "4ff62cf4",
   "metadata": {},
   "outputs": [
    {
     "data": {
      "text/plain": [
       "RESIDENCIA       125227\n",
       "UBIGEO_RENIEC    125227\n",
       "UBIGEO_INEI      125227\n",
       "CONTINENTE       125227\n",
       "PAIS             125227\n",
       "DEPARTAMENTO     125227\n",
       "PROVINCIA        125227\n",
       "DISTRITO         125227\n",
       "SEXO             125227\n",
       "EDAD             125227\n",
       "CANTIDAD         125227\n",
       "PERIODO          125227\n",
       "dtype: int64"
      ]
     },
     "execution_count": 111,
     "metadata": {},
     "output_type": "execute_result"
    }
   ],
   "source": [
    "\n",
    "years = [2016,2017,2018]\n",
    "df[\n",
    "    (df['PERIODO'].isin(years)) &\n",
    "    (df['EDAD'].between(10, 19))\n",
    "].count()"
   ]
  },
  {
   "cell_type": "markdown",
   "id": "3e543154",
   "metadata": {},
   "source": [
    "## From 2014 through 2020, which  year the average age of elderly  people  (age equal or greather than 60 years) identified was the higher?\n"
   ]
  },
  {
   "cell_type": "code",
   "execution_count": 112,
   "id": "f3dc8bc2",
   "metadata": {},
   "outputs": [
    {
     "data": {
      "text/plain": [
       "RESIDENCIA       962616\n",
       "UBIGEO_RENIEC    959614\n",
       "UBIGEO_INEI      943459\n",
       "CONTINENTE       962616\n",
       "PAIS             962616\n",
       "DEPARTAMENTO     943459\n",
       "PROVINCIA        943459\n",
       "DISTRITO         943459\n",
       "SEXO             962616\n",
       "EDAD             962616\n",
       "CANTIDAD         962616\n",
       "PERIODO          962616\n",
       "dtype: int64"
      ]
     },
     "execution_count": 112,
     "metadata": {},
     "output_type": "execute_result"
    }
   ],
   "source": [
    "\n",
    "df[\n",
    "    (df['PERIODO']>=2014) &\n",
    "    (df['EDAD']>=60)\n",
    "].count()"
   ]
  },
  {
   "cell_type": "code",
   "execution_count": null,
   "id": "4906fea3",
   "metadata": {},
   "outputs": [],
   "source": []
  }
 ],
 "metadata": {
  "kernelspec": {
   "display_name": "Python 3",
   "language": "python",
   "name": "python3"
  },
  "language_info": {
   "codemirror_mode": {
    "name": "ipython",
    "version": 3
   },
   "file_extension": ".py",
   "mimetype": "text/x-python",
   "name": "python",
   "nbconvert_exporter": "python",
   "pygments_lexer": "ipython3",
   "version": "3.8.8"
  }
 },
 "nbformat": 4,
 "nbformat_minor": 5
}
